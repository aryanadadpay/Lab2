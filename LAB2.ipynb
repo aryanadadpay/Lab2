{
  "nbformat": 4,
  "nbformat_minor": 0,
  "metadata": {
    "colab": {
      "name": "LAB2.ipynb",
      "provenance": [],
      "authorship_tag": "ABX9TyNl5nLlVJvu1kB1cBjOefM6",
      "include_colab_link": true
    },
    "kernelspec": {
      "name": "python3",
      "display_name": "Python 3"
    }
  },
  "cells": [
    {
      "cell_type": "markdown",
      "metadata": {
        "id": "view-in-github",
        "colab_type": "text"
      },
      "source": [
        "<a href=\"https://colab.research.google.com/github/aryanadadpay/Lab2/blob/master/LAB2.ipynb\" target=\"_parent\"><img src=\"https://colab.research.google.com/assets/colab-badge.svg\" alt=\"Open In Colab\"/></a>"
      ]
    },
    {
      "cell_type": "markdown",
      "metadata": {
        "id": "tLpa-hochowM",
        "colab_type": "text"
      },
      "source": [
        "# Types of Graphs"
      ]
    },
    {
      "cell_type": "markdown",
      "metadata": {
        "id": "GhWSukLPBCRs",
        "colab_type": "text"
      },
      "source": [
        "Aryana Dadpay"
      ]
    },
    {
      "cell_type": "markdown",
      "metadata": {
        "id": "hG16ddMEZbfz",
        "colab_type": "text"
      },
      "source": [
        "# DEVIATION"
      ]
    },
    {
      "cell_type": "markdown",
      "metadata": {
        "id": "fYb5QmtjNDru",
        "colab_type": "text"
      },
      "source": [
        "![alt text](https://raw.githubusercontent.com/aryanadadpay/Lab2/master/Screen%20Shot%202020-02-21%20at%201.07.16%20AM.png)"
      ]
    },
    {
      "cell_type": "markdown",
      "metadata": {
        "id": "27R7F8k-ZhM3",
        "colab_type": "text"
      },
      "source": [
        "Diverging bar charts are simple standard bar charts that can handle both negative and positive magnitude values.  This chart effectively emphasizes variation in data values by using a fixed point. One thing to note about this chart is that the marks which go left or right does not necessarily reflect positive or negative, and the divergent line can represent a magnitude of values. It could be numerical, a goal, yes or no’s, time periods, or any different type of survey data. A really good type of data that can be represented by this type of graph is negative and positive  values that are compared at the baseline."
      ]
    },
    {
      "cell_type": "markdown",
      "metadata": {
        "id": "_zFEQduoZm0k",
        "colab_type": "text"
      },
      "source": [
        "# CORRELATION"
      ]
    },
    {
      "cell_type": "markdown",
      "metadata": {
        "id": "3uPUWPe8aW2c",
        "colab_type": "text"
      },
      "source": [
        "![alt text](https://raw.githubusercontent.com/aryanadadpay/Lab2/master/Screen%20Shot%202020-02-21%20at%201.07.53%20AM.png)"
      ]
    },
    {
      "cell_type": "markdown",
      "metadata": {
        "id": "g4y5hudFeFBk",
        "colab_type": "text"
      },
      "source": [
        "Scatterplots are the standard way to show the relationship between two continuous variables each of which have their own axis. This graph shows the relationship between multiple different points over the graphs x and y axis. The values of the two variables show a pattern through the different scattered points throughout the plot, which can lead to show if there is any correlation in the data set. The correlation types that can be shown are positive, negative, or null depending on the slope of the pattern of dats that are scattered. You can draw or  insert a line of best fit (trendline) throughout all of the points to indicate the slope of the points and thus help determine the relationship (if there is one) of the graphs points.\n"
      ]
    },
    {
      "cell_type": "markdown",
      "metadata": {
        "id": "a2ShPQG-h2DH",
        "colab_type": "text"
      },
      "source": [
        "# RANKING"
      ]
    },
    {
      "cell_type": "markdown",
      "metadata": {
        "id": "9N7gLnvgeJJN",
        "colab_type": "text"
      },
      "source": [
        "![alt text](https://raw.githubusercontent.com/aryanadadpay/Lab2/master/Screen%20Shot%202020-02-21%20at%201.08.13%20AM.png)"
      ]
    },
    {
      "cell_type": "markdown",
      "metadata": {
        "id": "8tjPbL53ePGW",
        "colab_type": "text"
      },
      "source": [
        "Order bar charts are standard bar charts that display the ranks and values when sorted into order. They are really good at highlighting the positioning of the data relative to all of the values. They can be ordered in any arrangement of the data to provide further visualization of the data. You can show data into discrete groups which are typically qualitative values. The categories for ordered bar charts can be reflected on either the  horizontal or vertical axis. In ordered bar charts, the categorical data is shown through rectangular bars that have heights that reflect the amount of the value that they represent.\n"
      ]
    },
    {
      "cell_type": "markdown",
      "metadata": {
        "id": "pRZ3o0QDhyWO",
        "colab_type": "text"
      },
      "source": [
        "# DISTRIBUTION"
      ]
    },
    {
      "cell_type": "markdown",
      "metadata": {
        "id": "WQzwbTl8eVt9",
        "colab_type": "text"
      },
      "source": [
        "![alt text](https://raw.githubusercontent.com/aryanadadpay/Lab2/master/Screen%20Shot%202020-02-21%20at%201.08.29%20AM.png)"
      ]
    },
    {
      "cell_type": "markdown",
      "metadata": {
        "id": "K46zwVxfe_bm",
        "colab_type": "text"
      },
      "source": [
        "This chart is the standard way to show a statistical distribution. It is very effective at showing the different values in a dataset as well as their frequency, and the different “skews” of the data and the overall shape of the graph is effective at highlighting patterns. Histograms use their different bar heights to group different numbers and values in the data set into different ranges. The taller bars represent that that value has more data in it than the shorter bars. You can look at the distribution and spread of the data to see if it it skewed more towards the right, left, or concentrated in the middle.\n"
      ]
    },
    {
      "cell_type": "markdown",
      "metadata": {
        "id": "DUoms5MRiewk",
        "colab_type": "text"
      },
      "source": [
        "# CHANGE OVER TIME"
      ]
    },
    {
      "cell_type": "markdown",
      "metadata": {
        "id": "wJh9kygUiO4v",
        "colab_type": "text"
      },
      "source": [
        "![alt text](https://raw.githubusercontent.com/aryanadadpay/Lab2/master/Screen%20Shot%202020-02-21%20at%201.08.48%20AM.png)"
      ]
    },
    {
      "cell_type": "markdown",
      "metadata": {
        "id": "xTKFduMtrRRe",
        "colab_type": "text"
      },
      "source": [
        "This line graph is a standard way to show the trend of the data over a changing time series. If the data is irregular, markers are a good idea to represent the data points and differentiate them. Change over time is really well shown throughout line graphs because they can track changes over both short and long periods of time. Due to the nature of the dataset I used having relatively smaller changes, this instance better calls for a line graph as opposed to a bar graph. If necessary, you can also add multiple lines to compare different data sets on the same graph and you can manage it well so it is not over crowded. \n"
      ]
    },
    {
      "cell_type": "markdown",
      "metadata": {
        "id": "hMoDjau8lAtm",
        "colab_type": "text"
      },
      "source": [
        "# MAGNITUDE"
      ]
    },
    {
      "cell_type": "markdown",
      "metadata": {
        "id": "udaHf7mgk-cS",
        "colab_type": "text"
      },
      "source": [
        "![alt text](https://raw.githubusercontent.com/aryanadadpay/Lab2/master/Screen%20Shot%202020-02-21%20at%201.09.10%20AM.png)"
      ]
    },
    {
      "cell_type": "markdown",
      "metadata": {
        "id": "yJpP59yHrSsX",
        "colab_type": "text"
      },
      "source": [
        "This column chart is a standard way to compare different sizes of things. It must always begin with a zero on the axis. It compares data that may be in “bins” that you need to account for when compiling the graph. Bar charts are really good for visualizing data among various categories. The graphs can show big changes in a data over time and convey the relationship between the two axes very effectively. If you have data from different groups, bar graphs can help the reader visualize trends are patterns more effectively than other types of graphs that may not be suitable for the values.\n"
      ]
    },
    {
      "cell_type": "markdown",
      "metadata": {
        "id": "2UsYPLwxBH1Q",
        "colab_type": "text"
      },
      "source": [
        "# PART TO WHOLE"
      ]
    },
    {
      "cell_type": "markdown",
      "metadata": {
        "id": "XP61b32ghdke",
        "colab_type": "text"
      },
      "source": [
        "![alt text](https://raw.githubusercontent.com/aryanadadpay/Lab2/master/Screen%20Shot%202020-02-21%20at%201.09.42%20AM.png)"
      ]
    },
    {
      "cell_type": "markdown",
      "metadata": {
        "id": "YH8ugJHFBR9Z",
        "colab_type": "text"
      },
      "source": [
        "This pie chart is able to convey lots of information to viewers. The graph divides the top ten types of mascots into sectors to show the viewers the part amount (out of the whole) graph that each madcot represents. These proportions are really useful for us, as the different segments all mke up the larger whole \"pie.\"  One downside to this graph is that it can be difficult at times to accurately compare the sizes of the segments to the whole graph. This graph enables you to focus on the top ten mascots, as opposed to all of them and it shows how influencial each individual one was, which is not something most bar charts are able to portray."
      ]
    }
  ]
}